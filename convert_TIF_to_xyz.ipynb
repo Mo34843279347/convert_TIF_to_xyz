{
 "cells": [
  {
   "cell_type": "code",
   "execution_count": 70,
   "id": "f8409890",
   "metadata": {},
   "outputs": [],
   "source": [
    "import numpy as np\n",
    "import rasterio \n",
    "\n",
    "#Insert the name of your TIF file\n",
    "dem= rasterio.open('Test.tif')\n",
    "\n",
    "#Defining variables\n",
    "width= dem.profile['width']\n",
    "height= dem.profile['height']\n",
    "x_values=np.array(dem.profile['transform'][2])\n",
    "x_values= np.reshape(x_values, (1,))\n",
    "y_values=np.array(dem.profile['transform'][5]+(height*dem.profile['transform'][4]))\n",
    "y_values= np.reshape(y_values, (1,))\n",
    "z_values= dem.read(1)\n",
    "\n",
    "for i in range(width):\n",
    "    x_values=np.append(x_values,(x_values[-1]+(dem.profile['transform'][0])))\n",
    "for i in range(height):\n",
    "    y_values=np.append(y_values,y_values[-1]-dem.profile['transform'][4])                       \n",
    "xyz= np.ones((width,height,3))\n",
    "\n",
    "#Replacing 'empty' xyz-array with data\n",
    "j=0\n",
    "k=0\n",
    "l=0\n",
    "m=0\n",
    "n=0\n",
    "o=0\n",
    "\n",
    "for i in range(width):   \n",
    "    for i in range(height):\n",
    "        i= np.array([x_values[j],y_values[k],z_values[l,m] ])\n",
    "        np.reshape(i, (3,1))\n",
    "        xyz[o,n]=i\n",
    "        k=k+1\n",
    "        l=l+1\n",
    "        n=n+1\n",
    "    m=m+1\n",
    "    j=j+1\n",
    "    o=o+1\n",
    "    k=0\n",
    "    l=0\n",
    "    n=0"
   ]
  }
 ],
 "metadata": {
  "kernelspec": {
   "display_name": "Python 3 (ipykernel)",
   "language": "python",
   "name": "python3"
  },
  "language_info": {
   "codemirror_mode": {
    "name": "ipython",
    "version": 3
   },
   "file_extension": ".py",
   "mimetype": "text/x-python",
   "name": "python",
   "nbconvert_exporter": "python",
   "pygments_lexer": "ipython3",
   "version": "3.9.0"
  }
 },
 "nbformat": 4,
 "nbformat_minor": 5
}
